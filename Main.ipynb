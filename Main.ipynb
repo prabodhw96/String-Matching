{
 "cells": [
  {
   "cell_type": "code",
   "execution_count": 25,
   "metadata": {},
   "outputs": [],
   "source": [
    "import numpy as np\n",
    "import pandas as pd\n",
    "pd.set_option('display.max_colwidth', -1)"
   ]
  },
  {
   "cell_type": "code",
   "execution_count": 26,
   "metadata": {},
   "outputs": [
    {
     "data": {
      "text/html": [
       "<div>\n",
       "<style scoped>\n",
       "    .dataframe tbody tr th:only-of-type {\n",
       "        vertical-align: middle;\n",
       "    }\n",
       "\n",
       "    .dataframe tbody tr th {\n",
       "        vertical-align: top;\n",
       "    }\n",
       "\n",
       "    .dataframe thead th {\n",
       "        text-align: right;\n",
       "    }\n",
       "</style>\n",
       "<table border=\"1\" class=\"dataframe\">\n",
       "  <thead>\n",
       "    <tr style=\"text-align: right;\">\n",
       "      <th></th>\n",
       "      <th>Line Number</th>\n",
       "      <th>Company Name</th>\n",
       "      <th>Company CIK Key</th>\n",
       "    </tr>\n",
       "  </thead>\n",
       "  <tbody>\n",
       "    <tr>\n",
       "      <td>0</td>\n",
       "      <td>1</td>\n",
       "      <td>!J INC</td>\n",
       "      <td>1438823</td>\n",
       "    </tr>\n",
       "    <tr>\n",
       "      <td>1</td>\n",
       "      <td>2</td>\n",
       "      <td>#1 A LIFESAFER HOLDINGS, INC.</td>\n",
       "      <td>1509607</td>\n",
       "    </tr>\n",
       "    <tr>\n",
       "      <td>2</td>\n",
       "      <td>3</td>\n",
       "      <td>#1 ARIZONA DISCOUNT PROPERTIES LLC</td>\n",
       "      <td>1457512</td>\n",
       "    </tr>\n",
       "    <tr>\n",
       "      <td>3</td>\n",
       "      <td>4</td>\n",
       "      <td>#1 PAINTBALL CORP</td>\n",
       "      <td>1433777</td>\n",
       "    </tr>\n",
       "    <tr>\n",
       "      <td>4</td>\n",
       "      <td>5</td>\n",
       "      <td>$ LLC</td>\n",
       "      <td>1427189</td>\n",
       "    </tr>\n",
       "  </tbody>\n",
       "</table>\n",
       "</div>"
      ],
      "text/plain": [
       "   Line Number                        Company Name  Company CIK Key\n",
       "0  1            !J INC                              1438823        \n",
       "1  2            #1 A LIFESAFER HOLDINGS, INC.       1509607        \n",
       "2  3            #1 ARIZONA DISCOUNT PROPERTIES LLC  1457512        \n",
       "3  4            #1 PAINTBALL CORP                   1433777        \n",
       "4  5            $ LLC                               1427189        "
      ]
     },
     "execution_count": 26,
     "metadata": {},
     "output_type": "execute_result"
    }
   ],
   "source": [
    "df =  pd.read_csv('data/sec__edgar_company_info.csv')\n",
    "df.head()"
   ]
  },
  {
   "cell_type": "code",
   "execution_count": 27,
   "metadata": {},
   "outputs": [
    {
     "data": {
      "text/plain": [
       "(663000, 3)"
      ]
     },
     "execution_count": 27,
     "metadata": {},
     "output_type": "execute_result"
    }
   ],
   "source": [
    "df.shape"
   ]
  },
  {
   "cell_type": "code",
   "execution_count": 28,
   "metadata": {},
   "outputs": [],
   "source": [
    "import re\n",
    "\n",
    "def ngrams(string, n=3):\n",
    "    string = re.sub(r'[,-./]|\\sBD',r'', string)\n",
    "    ngrams = zip(*[string[i:] for i in range(n)])\n",
    "    return [''.join(ngram) for ngram in ngrams]"
   ]
  },
  {
   "cell_type": "code",
   "execution_count": 29,
   "metadata": {},
   "outputs": [
    {
     "name": "stdout",
     "output_type": "stream",
     "text": [
      "All 3-grams in \"Paintball\":\n"
     ]
    },
    {
     "data": {
      "text/plain": [
       "['Pai', 'ain', 'int', 'ntb', 'tba', 'bal', 'all']"
      ]
     },
     "execution_count": 29,
     "metadata": {},
     "output_type": "execute_result"
    }
   ],
   "source": [
    "print('All 3-grams in \"Paintball\":')\n",
    "ngrams('Paintball')"
   ]
  },
  {
   "cell_type": "code",
   "execution_count": 37,
   "metadata": {},
   "outputs": [],
   "source": [
    "from sklearn.feature_extraction.text import TfidfVectorizer\n",
    "\n",
    "names = df['Company Name']\n",
    "vectorizer = TfidfVectorizer(min_df=1, analyzer=ngrams)\n",
    "tf_idf_matrix = vectorizer.fit_transform(names)"
   ]
  },
  {
   "cell_type": "code",
   "execution_count": 39,
   "metadata": {},
   "outputs": [
    {
     "name": "stdout",
     "output_type": "stream",
     "text": [
      "  (0, 14549)\t0.15757684989695478\n",
      "  (0, 812)\t0.14545326532967898\n",
      "  (0, 14951)\t0.517420185391102\n",
      "  (0, 1395)\t0.828425757525274\n"
     ]
    },
    {
     "data": {
      "text/plain": [
       "['!J ', 'J I', ' IN', 'INC']"
      ]
     },
     "execution_count": 39,
     "metadata": {},
     "output_type": "execute_result"
    }
   ],
   "source": [
    "print(tf_idf_matrix[0])\n",
    "\n",
    "ngrams('!J INC')"
   ]
  },
  {
   "cell_type": "markdown",
   "metadata": {},
   "source": [
    "The last term (‘INC’) has a relatively low value, which makes sense as this term will appear often in the corpus, thus receiving a lower IDF weight."
   ]
  },
  {
   "cell_type": "code",
   "execution_count": 44,
   "metadata": {},
   "outputs": [],
   "source": [
    "from scipy.sparse import csr_matrix\n",
    "import sparse_dot_topn.sparse_dot_topn as ct\n",
    "\n",
    "def awsm_cossim_top(A, B, ntop, lower_bound=0):\n",
    "    A = A.tocsr()\n",
    "    B = B.tocsr()\n",
    "    M, _ = A.shape\n",
    "    _, N = B.shape\n",
    "    \n",
    "    idx_dtype = np.int32\n",
    "    \n",
    "    nnz_max = M*ntop\n",
    "    \n",
    "    indptr = np.zeros(M+1, dtype=idx_dtype)\n",
    "    indices = np.zeros(nnz_max, dtype=idx_dtype)\n",
    "    data = np.zeros(nnz_max, dtype=A.dtype)\n",
    "    \n",
    "    ct.sparse_dot_topn(M, N, np.asarray(A.indptr, dtype=idx_dtype),\n",
    "                      np.asarray(A.indices, dtype=idx_dtype),\n",
    "                      A.data,\n",
    "                      np.asarray(B.indptr, dtype=idx_dtype),\n",
    "                      np.asarray(B.indices, dtype=idx_dtype),\n",
    "                      B.data,\n",
    "                      ntop,\n",
    "                      lower_bound,\n",
    "                      indptr, indices, data)\n",
    "    \n",
    "    return csr_matrix((data, indices, indptr), shape=(M, N))"
   ]
  },
  {
   "cell_type": "code",
   "execution_count": 45,
   "metadata": {},
   "outputs": [
    {
     "name": "stdout",
     "output_type": "stream",
     "text": [
      "SELFTIMED: 5915.475016593933\n"
     ]
    }
   ],
   "source": [
    "import time\n",
    "t1 = time.time()\n",
    "matches = awsm_cossim_top(tf_idf_matrix, tf_idf_matrix.transpose(), 10, 0.8) # similarity > 0.8\n",
    "t = time.time()-t1\n",
    "print(\"SELFTIMED:\", t)"
   ]
  },
  {
   "cell_type": "code",
   "execution_count": 46,
   "metadata": {},
   "outputs": [],
   "source": [
    "def get_matches_df(sparse_matrix, name_vector, top=100):\n",
    "    non_zeros = sparse_matrix.nonzero()\n",
    "    \n",
    "    sparserows = non_zeros[0]\n",
    "    sparsecols = non_zeros[1]\n",
    "    \n",
    "    if top:\n",
    "        nr_matches = top\n",
    "    else:\n",
    "        nr_matches = sparsecols.size\n",
    "        \n",
    "    left_side = np.empty([nr_matches], dtype=object)\n",
    "    right_side = np.empty([nr_matches], dtype=object)\n",
    "    similarity = np.zeros(nr_matches)\n",
    "    \n",
    "    for index in range(0, nr_matches):\n",
    "        left_side[index] = name_vector[sparserows[index]]\n",
    "        right_side[index] = name_vector[sparsecols[index]]\n",
    "        similarity[index] = sparse_matrix.data[index]\n",
    "        \n",
    "    return pd.DataFrame({'left_side':left_side, 'right_side':right_side, 'similarity':similarity})"
   ]
  },
  {
   "cell_type": "code",
   "execution_count": 47,
   "metadata": {},
   "outputs": [
    {
     "data": {
      "text/html": [
       "<div>\n",
       "<style scoped>\n",
       "    .dataframe tbody tr th:only-of-type {\n",
       "        vertical-align: middle;\n",
       "    }\n",
       "\n",
       "    .dataframe tbody tr th {\n",
       "        vertical-align: top;\n",
       "    }\n",
       "\n",
       "    .dataframe thead th {\n",
       "        text-align: right;\n",
       "    }\n",
       "</style>\n",
       "<table border=\"1\" class=\"dataframe\">\n",
       "  <thead>\n",
       "    <tr style=\"text-align: right;\">\n",
       "      <th></th>\n",
       "      <th>left_side</th>\n",
       "      <th>right_side</th>\n",
       "      <th>similarity</th>\n",
       "    </tr>\n",
       "  </thead>\n",
       "  <tbody>\n",
       "    <tr>\n",
       "      <td>37431</td>\n",
       "      <td>ADVISORS DISCIPLINED TRUST 694</td>\n",
       "      <td>ADVISORS DISCIPLINED TRUST 692</td>\n",
       "      <td>0.860952</td>\n",
       "    </tr>\n",
       "    <tr>\n",
       "      <td>27050</td>\n",
       "      <td>ADVISORS DISCIPLINED TRUST 1378</td>\n",
       "      <td>ADVISORS DISCIPLINED TRUST 1375</td>\n",
       "      <td>0.879955</td>\n",
       "    </tr>\n",
       "    <tr>\n",
       "      <td>45922</td>\n",
       "      <td>AGL LIFE ASSURANCE CO SEPARATE ACCOUNT VA 46</td>\n",
       "      <td>AGL LIFE ASSURANCE CO SEPARATE ACCOUNT VA 3</td>\n",
       "      <td>0.898953</td>\n",
       "    </tr>\n",
       "    <tr>\n",
       "      <td>58245</td>\n",
       "      <td>ALLSTATE FINANCING III</td>\n",
       "      <td>ALLSTATE FINANCING VIII</td>\n",
       "      <td>0.839127</td>\n",
       "    </tr>\n",
       "    <tr>\n",
       "      <td>78092</td>\n",
       "      <td>ANE TECHNOLOGIES INC</td>\n",
       "      <td>MICE TECHNOLOGIES INC</td>\n",
       "      <td>0.845709</td>\n",
       "    </tr>\n",
       "    <tr>\n",
       "      <td>75745</td>\n",
       "      <td>ANDERSON JULIE</td>\n",
       "      <td>ANDERSON JULIE L</td>\n",
       "      <td>0.932982</td>\n",
       "    </tr>\n",
       "    <tr>\n",
       "      <td>51905</td>\n",
       "      <td>ALDEBARAN FINANCIAL INC /TN/                            /ADV</td>\n",
       "      <td>PLAN FINANCIAL INC                                      /BD</td>\n",
       "      <td>0.981783</td>\n",
       "    </tr>\n",
       "    <tr>\n",
       "      <td>28702</td>\n",
       "      <td>ADVISORS DISCIPLINED TRUST 1528</td>\n",
       "      <td>ADVISORS DISCIPLINED TRUST 1524</td>\n",
       "      <td>0.881805</td>\n",
       "    </tr>\n",
       "    <tr>\n",
       "      <td>37356</td>\n",
       "      <td>ADVISORS DISCIPLINED TRUST 688</td>\n",
       "      <td>ADVISORS DISCIPLINED TRUST 68</td>\n",
       "      <td>0.928445</td>\n",
       "    </tr>\n",
       "    <tr>\n",
       "      <td>33962</td>\n",
       "      <td>ADVISORS DISCIPLINED TRUST 378</td>\n",
       "      <td>ADVISORS DISCIPLINED TRUST 377</td>\n",
       "      <td>0.871106</td>\n",
       "    </tr>\n",
       "    <tr>\n",
       "      <td>71877</td>\n",
       "      <td>AMICUS THERAPEUTICS INC</td>\n",
       "      <td>COPERNICUS THERAPEUTICS INC</td>\n",
       "      <td>0.822927</td>\n",
       "    </tr>\n",
       "    <tr>\n",
       "      <td>32413</td>\n",
       "      <td>ADVISORS DISCIPLINED TRUST 237</td>\n",
       "      <td>ADVISORS DISCIPLINED TRUST 238</td>\n",
       "      <td>0.874088</td>\n",
       "    </tr>\n",
       "    <tr>\n",
       "      <td>96602</td>\n",
       "      <td>ASF VII B L.P.</td>\n",
       "      <td>ASF VII L.P.</td>\n",
       "      <td>0.809447</td>\n",
       "    </tr>\n",
       "    <tr>\n",
       "      <td>60914</td>\n",
       "      <td>ALTA CALIFORNIA PARTNERS II LP</td>\n",
       "      <td>ALTA CALIFORNIA MANAGEMENT PARTNERS II LLC</td>\n",
       "      <td>0.813699</td>\n",
       "    </tr>\n",
       "    <tr>\n",
       "      <td>13763</td>\n",
       "      <td>ACE SECURITIES CORP. HOME EQUITY LOAN TRUST, SERIES 2006-ASAP1</td>\n",
       "      <td>ACE SECURITIES CORP. HOME EQUITY LOAN TRUST, SERIES 2006-ASAP6</td>\n",
       "      <td>0.906298</td>\n",
       "    </tr>\n",
       "    <tr>\n",
       "      <td>36521</td>\n",
       "      <td>ADVISORS DISCIPLINED TRUST 610</td>\n",
       "      <td>ADVISORS DISCIPLINED TRUST 619</td>\n",
       "      <td>0.879178</td>\n",
       "    </tr>\n",
       "    <tr>\n",
       "      <td>64152</td>\n",
       "      <td>AMBER FUND LP</td>\n",
       "      <td>AMBER FUND LLC</td>\n",
       "      <td>0.940792</td>\n",
       "    </tr>\n",
       "    <tr>\n",
       "      <td>79124</td>\n",
       "      <td>ANGELLIST-KATE-FUND, A SERIES OF ANGELLIST-50EN-FUNDS, LLC</td>\n",
       "      <td>ANGELLIST-WBLE-FUND, A SERIES OF ANGELLIST-50EN-FUNDS, LLC</td>\n",
       "      <td>0.837298</td>\n",
       "    </tr>\n",
       "    <tr>\n",
       "      <td>23482</td>\n",
       "      <td>ADVISORS DISCIPLINED TRUST 1053</td>\n",
       "      <td>ADVISORS DISCIPLINED TRUST 1056</td>\n",
       "      <td>0.898183</td>\n",
       "    </tr>\n",
       "    <tr>\n",
       "      <td>44228</td>\n",
       "      <td>AFRICA LONG TERM VALUE FUND INC.</td>\n",
       "      <td>AFRICA LONG TERM VALUE FUND L.P.</td>\n",
       "      <td>0.964788</td>\n",
       "    </tr>\n",
       "  </tbody>\n",
       "</table>\n",
       "</div>"
      ],
      "text/plain": [
       "                                                            left_side  \\\n",
       "37431  ADVISORS DISCIPLINED TRUST 694                                   \n",
       "27050  ADVISORS DISCIPLINED TRUST 1378                                  \n",
       "45922  AGL LIFE ASSURANCE CO SEPARATE ACCOUNT VA 46                     \n",
       "58245  ALLSTATE FINANCING III                                           \n",
       "78092  ANE TECHNOLOGIES INC                                             \n",
       "75745  ANDERSON JULIE                                                   \n",
       "51905  ALDEBARAN FINANCIAL INC /TN/                            /ADV     \n",
       "28702  ADVISORS DISCIPLINED TRUST 1528                                  \n",
       "37356  ADVISORS DISCIPLINED TRUST 688                                   \n",
       "33962  ADVISORS DISCIPLINED TRUST 378                                   \n",
       "71877  AMICUS THERAPEUTICS INC                                          \n",
       "32413  ADVISORS DISCIPLINED TRUST 237                                   \n",
       "96602  ASF VII B L.P.                                                   \n",
       "60914  ALTA CALIFORNIA PARTNERS II LP                                   \n",
       "13763  ACE SECURITIES CORP. HOME EQUITY LOAN TRUST, SERIES 2006-ASAP1   \n",
       "36521  ADVISORS DISCIPLINED TRUST 610                                   \n",
       "64152  AMBER FUND LP                                                    \n",
       "79124  ANGELLIST-KATE-FUND, A SERIES OF ANGELLIST-50EN-FUNDS, LLC       \n",
       "23482  ADVISORS DISCIPLINED TRUST 1053                                  \n",
       "44228  AFRICA LONG TERM VALUE FUND INC.                                 \n",
       "\n",
       "                                                           right_side  \\\n",
       "37431  ADVISORS DISCIPLINED TRUST 692                                   \n",
       "27050  ADVISORS DISCIPLINED TRUST 1375                                  \n",
       "45922  AGL LIFE ASSURANCE CO SEPARATE ACCOUNT VA 3                      \n",
       "58245  ALLSTATE FINANCING VIII                                          \n",
       "78092  MICE TECHNOLOGIES INC                                            \n",
       "75745  ANDERSON JULIE L                                                 \n",
       "51905  PLAN FINANCIAL INC                                      /BD      \n",
       "28702  ADVISORS DISCIPLINED TRUST 1524                                  \n",
       "37356  ADVISORS DISCIPLINED TRUST 68                                    \n",
       "33962  ADVISORS DISCIPLINED TRUST 377                                   \n",
       "71877  COPERNICUS THERAPEUTICS INC                                      \n",
       "32413  ADVISORS DISCIPLINED TRUST 238                                   \n",
       "96602  ASF VII L.P.                                                     \n",
       "60914  ALTA CALIFORNIA MANAGEMENT PARTNERS II LLC                       \n",
       "13763  ACE SECURITIES CORP. HOME EQUITY LOAN TRUST, SERIES 2006-ASAP6   \n",
       "36521  ADVISORS DISCIPLINED TRUST 619                                   \n",
       "64152  AMBER FUND LLC                                                   \n",
       "79124  ANGELLIST-WBLE-FUND, A SERIES OF ANGELLIST-50EN-FUNDS, LLC       \n",
       "23482  ADVISORS DISCIPLINED TRUST 1056                                  \n",
       "44228  AFRICA LONG TERM VALUE FUND L.P.                                 \n",
       "\n",
       "       similarity  \n",
       "37431  0.860952    \n",
       "27050  0.879955    \n",
       "45922  0.898953    \n",
       "58245  0.839127    \n",
       "78092  0.845709    \n",
       "75745  0.932982    \n",
       "51905  0.981783    \n",
       "28702  0.881805    \n",
       "37356  0.928445    \n",
       "33962  0.871106    \n",
       "71877  0.822927    \n",
       "32413  0.874088    \n",
       "96602  0.809447    \n",
       "60914  0.813699    \n",
       "13763  0.906298    \n",
       "36521  0.879178    \n",
       "64152  0.940792    \n",
       "79124  0.837298    \n",
       "23482  0.898183    \n",
       "44228  0.964788    "
      ]
     },
     "execution_count": 47,
     "metadata": {},
     "output_type": "execute_result"
    }
   ],
   "source": [
    "matches_df = get_matches_df(matches, names, top=100000)\n",
    "matches_df = matches_df[matches_df['similarity'] < 0.99999]\n",
    "matches_df.sample(20)"
   ]
  },
  {
   "cell_type": "code",
   "execution_count": null,
   "metadata": {},
   "outputs": [],
   "source": []
  }
 ],
 "metadata": {
  "kernelspec": {
   "display_name": "Python 3",
   "language": "python",
   "name": "python3"
  },
  "language_info": {
   "codemirror_mode": {
    "name": "ipython",
    "version": 3
   },
   "file_extension": ".py",
   "mimetype": "text/x-python",
   "name": "python",
   "nbconvert_exporter": "python",
   "pygments_lexer": "ipython3",
   "version": "3.6.8"
  }
 },
 "nbformat": 4,
 "nbformat_minor": 2
}
